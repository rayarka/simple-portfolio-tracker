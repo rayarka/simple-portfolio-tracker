{
 "cells": [
  {
   "cell_type": "code",
   "execution_count": null,
   "metadata": {},
   "outputs": [],
   "source": []
  },
  {
   "cell_type": "code",
   "execution_count": null,
   "metadata": {},
   "outputs": [],
   "source": []
  },
  {
   "cell_type": "markdown",
   "metadata": {},
   "source": [
    "# MAIN CODE"
   ]
  },
  {
   "cell_type": "code",
   "execution_count": null,
   "metadata": {},
   "outputs": [],
   "source": []
  },
  {
   "cell_type": "code",
   "execution_count": null,
   "metadata": {},
   "outputs": [],
   "source": []
  },
  {
   "cell_type": "code",
   "execution_count": null,
   "metadata": {},
   "outputs": [],
   "source": []
  },
  {
   "cell_type": "code",
   "execution_count": null,
   "metadata": {},
   "outputs": [],
   "source": []
  },
  {
   "cell_type": "markdown",
   "metadata": {},
   "source": [
    "# Workings"
   ]
  },
  {
   "cell_type": "code",
   "execution_count": 1,
   "metadata": {},
   "outputs": [],
   "source": [
    "import yfinance as yf\n",
    "from datetime import datetime, timedelta\n",
    "import pandas as pd\n",
    "from matplotlib import pyplot as plt"
   ]
  },
  {
   "cell_type": "markdown",
   "metadata": {},
   "source": [
    "Trying out for 1 stock and 1 date range first"
   ]
  },
  {
   "cell_type": "code",
   "execution_count": 3,
   "metadata": {},
   "outputs": [],
   "source": [
    "ticker = \"QQQM\"\n",
    "startDate = \"2021-09-15\"\n",
    "endDate = \"2022-01-13\""
   ]
  },
  {
   "cell_type": "code",
   "execution_count": 4,
   "metadata": {},
   "outputs": [],
   "source": [
    "def convert_date_to_correct_format(date):\n",
    "    dateofint = datetime.strptime(date, '%Y-%m-%d')\n",
    "    print(f\"Date = {dateofint}\")\n",
    "    print(f\"Weekday Number: {dateofint.weekday()}\")\n",
    "    if(dateofint.weekday() > 4):\n",
    "        print(f\"Is a Weekdend\")\n",
    "#         dateofint = dateofint - timedelta(days=2)\n",
    "    return dateofint"
   ]
  },
  {
   "cell_type": "code",
   "execution_count": 5,
   "metadata": {},
   "outputs": [
    {
     "name": "stdout",
     "output_type": "stream",
     "text": [
      "Date = 2021-09-15 00:00:00\n",
      "Weekday Number: 2\n",
      "Date = 2022-01-13 00:00:00\n",
      "Weekday Number: 3\n"
     ]
    }
   ],
   "source": [
    "startDate = convert_date_to_correct_format(startDate)\n",
    "endDate = convert_date_to_correct_format(endDate)"
   ]
  },
  {
   "cell_type": "code",
   "execution_count": 6,
   "metadata": {},
   "outputs": [],
   "source": [
    "tickerObject = yf.Ticker(ticker)\n",
    "data = tickerObject.history(start=startDate, end=endDate)"
   ]
  },
  {
   "cell_type": "code",
   "execution_count": 7,
   "metadata": {},
   "outputs": [
    {
     "data": {
      "text/html": [
       "<div>\n",
       "<style scoped>\n",
       "    .dataframe tbody tr th:only-of-type {\n",
       "        vertical-align: middle;\n",
       "    }\n",
       "\n",
       "    .dataframe tbody tr th {\n",
       "        vertical-align: top;\n",
       "    }\n",
       "\n",
       "    .dataframe thead th {\n",
       "        text-align: right;\n",
       "    }\n",
       "</style>\n",
       "<table border=\"1\" class=\"dataframe\">\n",
       "  <thead>\n",
       "    <tr style=\"text-align: right;\">\n",
       "      <th></th>\n",
       "      <th>Open</th>\n",
       "      <th>High</th>\n",
       "      <th>Low</th>\n",
       "      <th>Close</th>\n",
       "      <th>Volume</th>\n",
       "      <th>Dividends</th>\n",
       "      <th>Stock Splits</th>\n",
       "    </tr>\n",
       "    <tr>\n",
       "      <th>Date</th>\n",
       "      <th></th>\n",
       "      <th></th>\n",
       "      <th></th>\n",
       "      <th></th>\n",
       "      <th></th>\n",
       "      <th></th>\n",
       "      <th></th>\n",
       "    </tr>\n",
       "  </thead>\n",
       "  <tbody>\n",
       "    <tr>\n",
       "      <th>2021-09-14</th>\n",
       "      <td>154.996144</td>\n",
       "      <td>155.255628</td>\n",
       "      <td>153.529113</td>\n",
       "      <td>153.928314</td>\n",
       "      <td>326700</td>\n",
       "      <td>0.000</td>\n",
       "      <td>0</td>\n",
       "    </tr>\n",
       "    <tr>\n",
       "      <th>2021-09-15</th>\n",
       "      <td>154.117922</td>\n",
       "      <td>155.195742</td>\n",
       "      <td>153.189809</td>\n",
       "      <td>155.046051</td>\n",
       "      <td>445500</td>\n",
       "      <td>0.000</td>\n",
       "      <td>0</td>\n",
       "    </tr>\n",
       "    <tr>\n",
       "      <th>2021-09-16</th>\n",
       "      <td>154.517117</td>\n",
       "      <td>155.395343</td>\n",
       "      <td>153.698766</td>\n",
       "      <td>155.155823</td>\n",
       "      <td>446100</td>\n",
       "      <td>0.000</td>\n",
       "      <td>0</td>\n",
       "    </tr>\n",
       "    <tr>\n",
       "      <th>2021-09-17</th>\n",
       "      <td>154.846446</td>\n",
       "      <td>154.846446</td>\n",
       "      <td>152.920338</td>\n",
       "      <td>153.359451</td>\n",
       "      <td>358200</td>\n",
       "      <td>0.000</td>\n",
       "      <td>0</td>\n",
       "    </tr>\n",
       "    <tr>\n",
       "      <th>2021-09-20</th>\n",
       "      <td>150.947730</td>\n",
       "      <td>151.756965</td>\n",
       "      <td>148.210320</td>\n",
       "      <td>150.258377</td>\n",
       "      <td>1770000</td>\n",
       "      <td>0.166</td>\n",
       "      <td>0</td>\n",
       "    </tr>\n",
       "    <tr>\n",
       "      <th>...</th>\n",
       "      <td>...</td>\n",
       "      <td>...</td>\n",
       "      <td>...</td>\n",
       "      <td>...</td>\n",
       "      <td>...</td>\n",
       "      <td>...</td>\n",
       "      <td>...</td>\n",
       "    </tr>\n",
       "    <tr>\n",
       "      <th>2022-01-06</th>\n",
       "      <td>157.225006</td>\n",
       "      <td>159.270004</td>\n",
       "      <td>156.339996</td>\n",
       "      <td>157.960007</td>\n",
       "      <td>922500</td>\n",
       "      <td>0.000</td>\n",
       "      <td>0</td>\n",
       "    </tr>\n",
       "    <tr>\n",
       "      <th>2022-01-07</th>\n",
       "      <td>157.854996</td>\n",
       "      <td>158.619995</td>\n",
       "      <td>155.500000</td>\n",
       "      <td>156.270004</td>\n",
       "      <td>581900</td>\n",
       "      <td>0.000</td>\n",
       "      <td>0</td>\n",
       "    </tr>\n",
       "    <tr>\n",
       "      <th>2022-01-10</th>\n",
       "      <td>154.145004</td>\n",
       "      <td>156.520004</td>\n",
       "      <td>151.880005</td>\n",
       "      <td>156.419998</td>\n",
       "      <td>1057000</td>\n",
       "      <td>0.000</td>\n",
       "      <td>0</td>\n",
       "    </tr>\n",
       "    <tr>\n",
       "      <th>2022-01-11</th>\n",
       "      <td>156.085007</td>\n",
       "      <td>158.720001</td>\n",
       "      <td>155.179993</td>\n",
       "      <td>158.610001</td>\n",
       "      <td>597800</td>\n",
       "      <td>0.000</td>\n",
       "      <td>0</td>\n",
       "    </tr>\n",
       "    <tr>\n",
       "      <th>2022-01-12</th>\n",
       "      <td>159.779999</td>\n",
       "      <td>160.449997</td>\n",
       "      <td>158.360001</td>\n",
       "      <td>159.360001</td>\n",
       "      <td>426300</td>\n",
       "      <td>0.000</td>\n",
       "      <td>0</td>\n",
       "    </tr>\n",
       "  </tbody>\n",
       "</table>\n",
       "<p>85 rows × 7 columns</p>\n",
       "</div>"
      ],
      "text/plain": [
       "                  Open        High         Low       Close   Volume  \\\n",
       "Date                                                                  \n",
       "2021-09-14  154.996144  155.255628  153.529113  153.928314   326700   \n",
       "2021-09-15  154.117922  155.195742  153.189809  155.046051   445500   \n",
       "2021-09-16  154.517117  155.395343  153.698766  155.155823   446100   \n",
       "2021-09-17  154.846446  154.846446  152.920338  153.359451   358200   \n",
       "2021-09-20  150.947730  151.756965  148.210320  150.258377  1770000   \n",
       "...                ...         ...         ...         ...      ...   \n",
       "2022-01-06  157.225006  159.270004  156.339996  157.960007   922500   \n",
       "2022-01-07  157.854996  158.619995  155.500000  156.270004   581900   \n",
       "2022-01-10  154.145004  156.520004  151.880005  156.419998  1057000   \n",
       "2022-01-11  156.085007  158.720001  155.179993  158.610001   597800   \n",
       "2022-01-12  159.779999  160.449997  158.360001  159.360001   426300   \n",
       "\n",
       "            Dividends  Stock Splits  \n",
       "Date                                 \n",
       "2021-09-14      0.000             0  \n",
       "2021-09-15      0.000             0  \n",
       "2021-09-16      0.000             0  \n",
       "2021-09-17      0.000             0  \n",
       "2021-09-20      0.166             0  \n",
       "...               ...           ...  \n",
       "2022-01-06      0.000             0  \n",
       "2022-01-07      0.000             0  \n",
       "2022-01-10      0.000             0  \n",
       "2022-01-11      0.000             0  \n",
       "2022-01-12      0.000             0  \n",
       "\n",
       "[85 rows x 7 columns]"
      ]
     },
     "execution_count": 7,
     "metadata": {},
     "output_type": "execute_result"
    }
   ],
   "source": [
    "data"
   ]
  },
  {
   "cell_type": "code",
   "execution_count": 8,
   "metadata": {},
   "outputs": [
    {
     "data": {
      "text/plain": [
       "Date\n",
       "2021-09-14    153.928314\n",
       "2021-09-15    155.046051\n",
       "2021-09-16    155.155823\n",
       "2021-09-17    153.359451\n",
       "2021-09-20    150.258377\n",
       "                 ...    \n",
       "2022-01-06    157.960007\n",
       "2022-01-07    156.270004\n",
       "2022-01-10    156.419998\n",
       "2022-01-11    158.610001\n",
       "2022-01-12    159.360001\n",
       "Name: QQQM, Length: 85, dtype: float64"
      ]
     },
     "execution_count": 8,
     "metadata": {},
     "output_type": "execute_result"
    }
   ],
   "source": [
    "closePricesDf = data['Close']\n",
    "closePricesDf.name = ticker\n",
    "closePricesDf"
   ]
  },
  {
   "cell_type": "code",
   "execution_count": null,
   "metadata": {},
   "outputs": [],
   "source": [
    "print(list(data.index)[1])\n",
    "print(pd.Timestamp(2021, 10, 5))"
   ]
  },
  {
   "cell_type": "code",
   "execution_count": null,
   "metadata": {
    "scrolled": true
   },
   "outputs": [],
   "source": [
    "print(startDate)\n",
    "print(endDate)\n",
    "pd.date_range(start=startDate, end=endDate)"
   ]
  },
  {
   "cell_type": "code",
   "execution_count": null,
   "metadata": {},
   "outputs": [],
   "source": [
    "# # Covered below\n",
    "# dd = pd.Timestamp(2022, 1, 15)\n",
    "# holdingUpdateDf = pd.DataFrame(index = pd.date_range(start=startDate, end=dd))\n",
    "# holdingUpdateDf = pd.merge(holdingUpdateDf, closePricesDf, how = 'left', left_index=True, right_index=True)\n",
    "# holdingUpdateDf.head(10)"
   ]
  },
  {
   "cell_type": "code",
   "execution_count": null,
   "metadata": {},
   "outputs": [],
   "source": [
    "# # Covered below\n",
    "# holdingUpdateDf = holdingUpdateDf.fillna(method=\"ffill\")\n",
    "# # holdingUpdateDf.head(10)"
   ]
  },
  {
   "cell_type": "code",
   "execution_count": 10,
   "metadata": {},
   "outputs": [
    {
     "data": {
      "text/plain": [
       "'QQQM Holdings'"
      ]
     },
     "execution_count": 10,
     "metadata": {},
     "output_type": "execute_result"
    }
   ],
   "source": [
    "ticker_column_name = ticker + \" Holdings\"\n",
    "ticker_column_name"
   ]
  },
  {
   "cell_type": "code",
   "execution_count": 11,
   "metadata": {},
   "outputs": [
    {
     "data": {
      "text/html": [
       "<div>\n",
       "<style scoped>\n",
       "    .dataframe tbody tr th:only-of-type {\n",
       "        vertical-align: middle;\n",
       "    }\n",
       "\n",
       "    .dataframe tbody tr th {\n",
       "        vertical-align: top;\n",
       "    }\n",
       "\n",
       "    .dataframe thead th {\n",
       "        text-align: right;\n",
       "    }\n",
       "</style>\n",
       "<table border=\"1\" class=\"dataframe\">\n",
       "  <thead>\n",
       "    <tr style=\"text-align: right;\">\n",
       "      <th></th>\n",
       "      <th>cumulative</th>\n",
       "    </tr>\n",
       "    <tr>\n",
       "      <th>Date</th>\n",
       "      <th></th>\n",
       "    </tr>\n",
       "  </thead>\n",
       "  <tbody>\n",
       "    <tr>\n",
       "      <th>2021-09-20</th>\n",
       "      <td>5</td>\n",
       "    </tr>\n",
       "    <tr>\n",
       "      <th>2021-10-15</th>\n",
       "      <td>10</td>\n",
       "    </tr>\n",
       "    <tr>\n",
       "      <th>2021-11-15</th>\n",
       "      <td>15</td>\n",
       "    </tr>\n",
       "    <tr>\n",
       "      <th>2021-12-15</th>\n",
       "      <td>20</td>\n",
       "    </tr>\n",
       "  </tbody>\n",
       "</table>\n",
       "</div>"
      ],
      "text/plain": [
       "            cumulative\n",
       "Date                  \n",
       "2021-09-20           5\n",
       "2021-10-15          10\n",
       "2021-11-15          15\n",
       "2021-12-15          20"
      ]
     },
     "execution_count": 11,
     "metadata": {},
     "output_type": "execute_result"
    }
   ],
   "source": [
    "holdings = pd.read_csv('holdings.csv', index_col='Date', parse_dates=True, dayfirst=True)\n",
    "holdings['cumulative'] = holdings[ticker_column_name].cumsum()\n",
    "# aaplHoldings.drop(['AAPL Holdings'])\n",
    "holdings.drop(columns=[ticker_column_name], inplace = True)\n",
    "holdings"
   ]
  },
  {
   "cell_type": "code",
   "execution_count": 12,
   "metadata": {},
   "outputs": [
    {
     "data": {
      "text/html": [
       "<div>\n",
       "<style scoped>\n",
       "    .dataframe tbody tr th:only-of-type {\n",
       "        vertical-align: middle;\n",
       "    }\n",
       "\n",
       "    .dataframe tbody tr th {\n",
       "        vertical-align: top;\n",
       "    }\n",
       "\n",
       "    .dataframe thead th {\n",
       "        text-align: right;\n",
       "    }\n",
       "</style>\n",
       "<table border=\"1\" class=\"dataframe\">\n",
       "  <thead>\n",
       "    <tr style=\"text-align: right;\">\n",
       "      <th></th>\n",
       "      <th>QQQM</th>\n",
       "      <th>cumulative</th>\n",
       "      <th>invested</th>\n",
       "    </tr>\n",
       "  </thead>\n",
       "  <tbody>\n",
       "    <tr>\n",
       "      <th>2021-09-15</th>\n",
       "      <td>155.046051</td>\n",
       "      <td>0.0</td>\n",
       "      <td>0.000000</td>\n",
       "    </tr>\n",
       "    <tr>\n",
       "      <th>2021-09-16</th>\n",
       "      <td>155.155823</td>\n",
       "      <td>0.0</td>\n",
       "      <td>0.000000</td>\n",
       "    </tr>\n",
       "    <tr>\n",
       "      <th>2021-09-17</th>\n",
       "      <td>153.359451</td>\n",
       "      <td>0.0</td>\n",
       "      <td>0.000000</td>\n",
       "    </tr>\n",
       "    <tr>\n",
       "      <th>2021-09-18</th>\n",
       "      <td>153.359451</td>\n",
       "      <td>0.0</td>\n",
       "      <td>0.000000</td>\n",
       "    </tr>\n",
       "    <tr>\n",
       "      <th>2021-09-19</th>\n",
       "      <td>153.359451</td>\n",
       "      <td>0.0</td>\n",
       "      <td>0.000000</td>\n",
       "    </tr>\n",
       "    <tr>\n",
       "      <th>...</th>\n",
       "      <td>...</td>\n",
       "      <td>...</td>\n",
       "      <td>...</td>\n",
       "    </tr>\n",
       "    <tr>\n",
       "      <th>2022-01-09</th>\n",
       "      <td>156.270004</td>\n",
       "      <td>20.0</td>\n",
       "      <td>3259.328003</td>\n",
       "    </tr>\n",
       "    <tr>\n",
       "      <th>2022-01-10</th>\n",
       "      <td>156.419998</td>\n",
       "      <td>20.0</td>\n",
       "      <td>3259.328003</td>\n",
       "    </tr>\n",
       "    <tr>\n",
       "      <th>2022-01-11</th>\n",
       "      <td>158.610001</td>\n",
       "      <td>20.0</td>\n",
       "      <td>3259.328003</td>\n",
       "    </tr>\n",
       "    <tr>\n",
       "      <th>2022-01-12</th>\n",
       "      <td>159.360001</td>\n",
       "      <td>20.0</td>\n",
       "      <td>3259.328003</td>\n",
       "    </tr>\n",
       "    <tr>\n",
       "      <th>2022-01-13</th>\n",
       "      <td>159.360001</td>\n",
       "      <td>20.0</td>\n",
       "      <td>3259.328003</td>\n",
       "    </tr>\n",
       "  </tbody>\n",
       "</table>\n",
       "<p>121 rows × 3 columns</p>\n",
       "</div>"
      ],
      "text/plain": [
       "                  QQQM  cumulative     invested\n",
       "2021-09-15  155.046051         0.0     0.000000\n",
       "2021-09-16  155.155823         0.0     0.000000\n",
       "2021-09-17  153.359451         0.0     0.000000\n",
       "2021-09-18  153.359451         0.0     0.000000\n",
       "2021-09-19  153.359451         0.0     0.000000\n",
       "...                ...         ...          ...\n",
       "2022-01-09  156.270004        20.0  3259.328003\n",
       "2022-01-10  156.419998        20.0  3259.328003\n",
       "2022-01-11  158.610001        20.0  3259.328003\n",
       "2022-01-12  159.360001        20.0  3259.328003\n",
       "2022-01-13  159.360001        20.0  3259.328003\n",
       "\n",
       "[121 rows x 3 columns]"
      ]
     },
     "execution_count": 12,
     "metadata": {},
     "output_type": "execute_result"
    }
   ],
   "source": [
    "# dd = pd.Timestamp(2022, 1, 15)\n",
    "holdingUpdateDf = pd.DataFrame(index = pd.date_range(start=startDate, end=endDate))\n",
    "holdingUpdateDf = pd.merge(holdingUpdateDf, closePricesDf, how = 'left', left_index=True, right_index=True)\n",
    "holdingUpdateDf.head(10)\n",
    "\n",
    "holdingUpdateDf = holdingUpdateDf.fillna(method=\"ffill\")\n",
    "\n",
    "holdingUpdateDf = pd.merge(holdingUpdateDf, holdings, how = 'left', left_index=True, right_index=True)\n",
    "holdingUpdateDf['invested'] = holdingUpdateDf['cumulative'] * holdingUpdateDf[ticker]\n",
    "holdingUpdateDf = holdingUpdateDf.fillna(method=\"ffill\")\n",
    "holdingUpdateDf = holdingUpdateDf.fillna(0)\n",
    "holdingUpdateDf"
   ]
  },
  {
   "cell_type": "code",
   "execution_count": 14,
   "metadata": {},
   "outputs": [
    {
     "data": {
      "text/html": [
       "<div>\n",
       "<style scoped>\n",
       "    .dataframe tbody tr th:only-of-type {\n",
       "        vertical-align: middle;\n",
       "    }\n",
       "\n",
       "    .dataframe tbody tr th {\n",
       "        vertical-align: top;\n",
       "    }\n",
       "\n",
       "    .dataframe thead th {\n",
       "        text-align: right;\n",
       "    }\n",
       "</style>\n",
       "<table border=\"1\" class=\"dataframe\">\n",
       "  <thead>\n",
       "    <tr style=\"text-align: right;\">\n",
       "      <th></th>\n",
       "      <th>QQQM</th>\n",
       "      <th>cumulative</th>\n",
       "      <th>invested</th>\n",
       "      <th>value</th>\n",
       "    </tr>\n",
       "  </thead>\n",
       "  <tbody>\n",
       "    <tr>\n",
       "      <th>2021-09-15</th>\n",
       "      <td>155.046051</td>\n",
       "      <td>0.0</td>\n",
       "      <td>0.000000</td>\n",
       "      <td>0.000000</td>\n",
       "    </tr>\n",
       "    <tr>\n",
       "      <th>2021-09-16</th>\n",
       "      <td>155.155823</td>\n",
       "      <td>0.0</td>\n",
       "      <td>0.000000</td>\n",
       "      <td>0.000000</td>\n",
       "    </tr>\n",
       "    <tr>\n",
       "      <th>2021-09-17</th>\n",
       "      <td>153.359451</td>\n",
       "      <td>0.0</td>\n",
       "      <td>0.000000</td>\n",
       "      <td>0.000000</td>\n",
       "    </tr>\n",
       "    <tr>\n",
       "      <th>2021-09-18</th>\n",
       "      <td>153.359451</td>\n",
       "      <td>0.0</td>\n",
       "      <td>0.000000</td>\n",
       "      <td>0.000000</td>\n",
       "    </tr>\n",
       "    <tr>\n",
       "      <th>2021-09-19</th>\n",
       "      <td>153.359451</td>\n",
       "      <td>0.0</td>\n",
       "      <td>0.000000</td>\n",
       "      <td>0.000000</td>\n",
       "    </tr>\n",
       "    <tr>\n",
       "      <th>...</th>\n",
       "      <td>...</td>\n",
       "      <td>...</td>\n",
       "      <td>...</td>\n",
       "      <td>...</td>\n",
       "    </tr>\n",
       "    <tr>\n",
       "      <th>2022-01-09</th>\n",
       "      <td>156.270004</td>\n",
       "      <td>20.0</td>\n",
       "      <td>3259.328003</td>\n",
       "      <td>3125.400085</td>\n",
       "    </tr>\n",
       "    <tr>\n",
       "      <th>2022-01-10</th>\n",
       "      <td>156.419998</td>\n",
       "      <td>20.0</td>\n",
       "      <td>3259.328003</td>\n",
       "      <td>3128.399963</td>\n",
       "    </tr>\n",
       "    <tr>\n",
       "      <th>2022-01-11</th>\n",
       "      <td>158.610001</td>\n",
       "      <td>20.0</td>\n",
       "      <td>3259.328003</td>\n",
       "      <td>3172.200012</td>\n",
       "    </tr>\n",
       "    <tr>\n",
       "      <th>2022-01-12</th>\n",
       "      <td>159.360001</td>\n",
       "      <td>20.0</td>\n",
       "      <td>3259.328003</td>\n",
       "      <td>3187.200012</td>\n",
       "    </tr>\n",
       "    <tr>\n",
       "      <th>2022-01-13</th>\n",
       "      <td>159.360001</td>\n",
       "      <td>20.0</td>\n",
       "      <td>3259.328003</td>\n",
       "      <td>3187.200012</td>\n",
       "    </tr>\n",
       "  </tbody>\n",
       "</table>\n",
       "<p>121 rows × 4 columns</p>\n",
       "</div>"
      ],
      "text/plain": [
       "                  QQQM  cumulative     invested        value\n",
       "2021-09-15  155.046051         0.0     0.000000     0.000000\n",
       "2021-09-16  155.155823         0.0     0.000000     0.000000\n",
       "2021-09-17  153.359451         0.0     0.000000     0.000000\n",
       "2021-09-18  153.359451         0.0     0.000000     0.000000\n",
       "2021-09-19  153.359451         0.0     0.000000     0.000000\n",
       "...                ...         ...          ...          ...\n",
       "2022-01-09  156.270004        20.0  3259.328003  3125.400085\n",
       "2022-01-10  156.419998        20.0  3259.328003  3128.399963\n",
       "2022-01-11  158.610001        20.0  3259.328003  3172.200012\n",
       "2022-01-12  159.360001        20.0  3259.328003  3187.200012\n",
       "2022-01-13  159.360001        20.0  3259.328003  3187.200012\n",
       "\n",
       "[121 rows x 4 columns]"
      ]
     },
     "execution_count": 14,
     "metadata": {},
     "output_type": "execute_result"
    }
   ],
   "source": [
    "valueDf = holdingUpdateDf.copy()\n",
    "valueDf['value'] = valueDf[ticker]*valueDf['cumulative']\n",
    "valueDf"
   ]
  },
  {
   "cell_type": "code",
   "execution_count": 22,
   "metadata": {},
   "outputs": [
    {
     "data": {
      "image/png": "[encoded data removed]",
      "text/plain": [
       "<Figure size 1152x576 with 1 Axes>"
      ]
     },
     "metadata": {
      "needs_background": "light"
     },
     "output_type": "display_data"
    }
   ],
   "source": [
    "title = f'{ticker}: Value of Holdings & Amount Invested'\n",
    "valueDf['value'].plot(label = \"value\", figsize=(16,8), title = title)\n",
    "valueDf['invested'].plot(label = \"invested\")\n",
    "\n",
    "plt.legend()\n",
    "plt.show()"
   ]
  },
  {
   "cell_type": "code",
   "execution_count": null,
   "metadata": {},
   "outputs": [],
   "source": []
  },
  {
   "cell_type": "code",
   "execution_count": null,
   "metadata": {},
   "outputs": [],
   "source": []
  },
  {
   "cell_type": "code",
   "execution_count": null,
   "metadata": {},
   "outputs": [],
   "source": []
  }
 ],
 "metadata": {
  "kernelspec": {
   "display_name": "Python 3",
   "language": "python",
   "name": "python3"
  },
  "language_info": {
   "codemirror_mode": {
    "name": "ipython",
    "version": 3
   },
   "file_extension": ".py",
   "mimetype": "text/x-python",
   "name": "python",
   "nbconvert_exporter": "python",
   "pygments_lexer": "ipython3",
   "version": "3.8.5"
  },
  "varInspector": {
   "cols": {
    "lenName": 16,
    "lenType": 16,
    "lenVar": 40
   },
   "kernels_config": {
    "python": {
     "delete_cmd_postfix": "",
     "delete_cmd_prefix": "del ",
     "library": "var_list.py",
     "varRefreshCmd": "print(var_dic_list())"
    },
    "r": {
     "delete_cmd_postfix": ") ",
     "delete_cmd_prefix": "rm(",
     "library": "var_list.r",
     "varRefreshCmd": "cat(var_dic_list()) "
    }
   },
   "types_to_exclude": [
    "module",
    "function",
    "builtin_function_or_method",
    "instance",
    "_Feature"
   ],
   "window_display": false
  }
 },
 "nbformat": 4,
 "nbformat_minor": 4
}
